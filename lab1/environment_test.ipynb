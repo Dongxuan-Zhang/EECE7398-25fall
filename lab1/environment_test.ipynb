{
 "cells": [
  {
   "cell_type": "code",
   "execution_count": 2,
   "metadata": {},
   "outputs": [
    {
     "name": "stdout",
     "output_type": "stream",
     "text": [
      "True\n",
      "True\n"
     ]
    }
   ],
   "source": [
    "import torch\n",
    "import math\n",
    "# this ensures that the current MacOS version is at least 12.3+\n",
    "print(torch.backends.mps.is_available())\n",
    "# this ensures that the current current PyTorch installation was built with MPS activated.\n",
    "print(torch.backends.mps.is_built())\n"
   ]
  },
  {
   "cell_type": "code",
   "execution_count": 4,
   "metadata": {},
   "outputs": [
    {
     "name": "stdout",
     "output_type": "stream",
     "text": [
      "99 1130.861328125\n",
      "199 750.8001098632812\n",
      "299 499.476806640625\n",
      "399 333.2823181152344\n",
      "499 223.38153076171875\n",
      "599 150.70616149902344\n",
      "699 102.64713287353516\n",
      "799 70.86636352539062\n",
      "899 49.85017776489258\n",
      "999 35.952354431152344\n",
      "1099 26.761768341064453\n",
      "1199 20.68408966064453\n",
      "1299 16.664897918701172\n",
      "1399 14.006948471069336\n",
      "1499 12.249263763427734\n",
      "1599 11.086902618408203\n",
      "1699 10.31822395324707\n",
      "1799 9.809871673583984\n",
      "1899 9.47369384765625\n",
      "1999 9.251360893249512\n",
      "2099 9.10432243347168\n",
      "2199 9.007089614868164\n",
      "2299 8.94277572631836\n",
      "2399 8.90024185180664\n",
      "2499 8.872112274169922\n",
      "2599 8.853507995605469\n",
      "2699 8.841203689575195\n",
      "2799 8.833064079284668\n",
      "2899 8.827682495117188\n",
      "2999 8.824122428894043\n",
      "Result: y = 0.00018627170356921852 + 0.8541829586029053 x + -3.213549280189909e-05 x^2 + -0.09296654909849167 x^3\n"
     ]
    }
   ],
   "source": [
    "dtype = torch.float\n",
    "device = torch.device(\"mps\")\n",
    "\n",
    "# Create random input and output data\n",
    "x = torch.linspace(-math.pi, math.pi, 2000, device=device, dtype=dtype)\n",
    "y = torch.sin(x)\n",
    "\n",
    "# Randomly initialize weights\n",
    "a = torch.randn((), device=device, dtype=dtype)\n",
    "b = torch.randn((), device=device, dtype=dtype)\n",
    "c = torch.randn((), device=device, dtype=dtype)\n",
    "d = torch.randn((), device=device, dtype=dtype)\n",
    "\n",
    "learning_rate = 1e-6\n",
    "for t in range(3000):\n",
    "    # Forward pass: compute predicted y\n",
    "    y_pred = a + b * x + c * x ** 2 + d * x ** 3\n",
    "\n",
    "    # Compute and print loss\n",
    "    loss = (y_pred - y).pow(2).sum().item()\n",
    "    if t % 100 == 99:\n",
    "        print(t, loss)\n",
    "\n",
    "# Backprop to compute gradients of a, b, c, d with respect to loss\n",
    "    grad_y_pred = 2.0 * (y_pred - y)\n",
    "    grad_a = grad_y_pred.sum()\n",
    "    grad_b = (grad_y_pred * x).sum()\n",
    "    grad_c = (grad_y_pred * x ** 2).sum()\n",
    "    grad_d = (grad_y_pred * x ** 3).sum()\n",
    "\n",
    "    # Update weights using gradient descent\n",
    "    a -= learning_rate * grad_a\n",
    "    b -= learning_rate * grad_b\n",
    "    c -= learning_rate * grad_c\n",
    "    d -= learning_rate * grad_d\n",
    "\n",
    "\n",
    "print(f'Result: y = {a.item()} + {b.item()} x + {c.item()} x^2 + {d.item()} x^3')\n"
   ]
  }
 ],
 "metadata": {
  "kernelspec": {
   "display_name": "torch-gpuprivate",
   "language": "python",
   "name": "torch-gpuprivate"
  },
  "language_info": {
   "codemirror_mode": {
    "name": "ipython",
    "version": 3
   },
   "file_extension": ".py",
   "mimetype": "text/x-python",
   "name": "python",
   "nbconvert_exporter": "python",
   "pygments_lexer": "ipython3",
   "version": "3.9.20"
  }
 },
 "nbformat": 4,
 "nbformat_minor": 2
}
