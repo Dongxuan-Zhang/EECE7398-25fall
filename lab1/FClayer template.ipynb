{
 "cells": [
  {
   "cell_type": "code",
   "execution_count": 5,
   "id": "da87a19f-f1cb-4fc9-86da-2761a083e260",
   "metadata": {},
   "outputs": [
    {
     "name": "stdout",
     "output_type": "stream",
     "text": [
      "SimpleNN(\n",
      "  (fc1): Linear(in_features=128, out_features=64, bias=True)\n",
      "  (fc2): Linear(in_features=64, out_features=32, bias=True)\n",
      "  (fc3): Linear(in_features=32, out_features=10, bias=True)\n",
      ")\n",
      "Loss: 2.3478689193725586\n"
     ]
    }
   ],
   "source": [
    "import torch\n",
    "import torch.nn as nn\n",
    "import torch.optim as optim\n",
    "import torch.nn.functional as F\n",
    " \n",
    "# 定义神经网络模型\n",
    "class SimpleNN(nn.Module):\n",
    "    def __init__(self, input_size, num_classes):\n",
    "        super(SimpleNN, self).__init__()\n",
    "        self.fc1 = nn.Linear(input_size, 64)  # 第一个全连接层\n",
    "        self.fc2 = nn.Linear(64, 32)  # 第二个全连接层\n",
    "        self.fc3 = nn.Linear(32, num_classes)  # 输出层，维度为类别数量\n",
    " \n",
    "    def forward(self, x):\n",
    "        x = F.relu(self.fc1(x))  # ReLU激活函数\n",
    "        x = F.relu(self.fc2(x))\n",
    "        x = self.fc3(x)  # 最后一层不需要激活函数，因为我们会在损失函数中应用Softmax\n",
    "        return x\n",
    " \n",
    "# 模型实例化\n",
    "input_size = 128  # 假设输入数据的特征维度为128\n",
    "num_classes = 10  # 假设有10个类别\n",
    "model = SimpleNN(input_size, num_classes)\n",
    " \n",
    "# 打印模型结构\n",
    "print(model)\n",
    " \n",
    "# 损失函数和优化器\n",
    "criterion = nn.CrossEntropyLoss()  # CrossEntropyLoss包含了Softmax\n",
    "optimizer = optim.Adam(model.parameters(), lr=0.001)\n",
    " \n",
    "# 假设有一些数据用于训练\n",
    "# inputs: shape (batch_size, input_size)\n",
    "# labels: shape (batch_size)\n",
    "inputs = torch.randn(32, input_size)  # 32个样本，输入特征维度为128\n",
    "labels = torch.randint(0, num_classes, (32,))  # 32个样本的标签，范围在0到9之间\n",
    " \n",
    "# 训练步骤\n",
    "outputs = model(inputs)  # 前向传播\n",
    "loss = criterion(outputs, labels)  # 计算损失\n",
    "optimizer.zero_grad()  # 清空梯度\n",
    "loss.backward()  # 反向传播\n",
    "optimizer.step()  # 更新参数\n",
    " \n",
    "# 打印损失\n",
    "print(f'Loss: {loss.item()}')"
   ]
  },
  {
   "cell_type": "code",
   "execution_count": null,
   "id": "d8ea2665-efa8-4530-a8f8-326485c2ace6",
   "metadata": {},
   "outputs": [],
   "source": []
  }
 ],
 "metadata": {
  "kernelspec": {
   "display_name": "torch-gpuprivate",
   "language": "python",
   "name": "python3"
  },
  "language_info": {
   "codemirror_mode": {
    "name": "ipython",
    "version": 3
   },
   "file_extension": ".py",
   "mimetype": "text/x-python",
   "name": "python",
   "nbconvert_exporter": "python",
   "pygments_lexer": "ipython3",
   "version": "3.9.20"
  }
 },
 "nbformat": 4,
 "nbformat_minor": 5
}
